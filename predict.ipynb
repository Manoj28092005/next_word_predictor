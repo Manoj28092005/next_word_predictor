{
 "cells": [
  {
   "cell_type": "code",
   "execution_count": 5,
   "id": "5012738d",
   "metadata": {},
   "outputs": [
    {
     "name": "stderr",
     "output_type": "stream",
     "text": [
      "WARNING:absl:Compiled the loaded model, but the compiled metrics have yet to be built. `model.compile_metrics` will be empty until you train or evaluate the model.\n"
     ]
    },
    {
     "name": "stdout",
     "output_type": "stream",
     "text": [
      "\u001b[1m1/1\u001b[0m \u001b[32m━━━━━━━━━━━━━━━━━━━━\u001b[0m\u001b[37m\u001b[0m \u001b[1m1s\u001b[0m 575ms/step\n"
     ]
    },
    {
     "data": {
      "text/plain": [
       "'two'"
      ]
     },
     "execution_count": 5,
     "metadata": {},
     "output_type": "execute_result"
    }
   ],
   "source": [
    "import pickle\n",
    "from tensorflow import keras\n",
    "with open('tokenizer.pkl', 'rb') as f:\n",
    "    tokenizer = pickle.load(f)\n",
    "with open('my_model.h5', 'rb') as f:\n",
    "    model = keras.models.load_model(f.name)\n",
    "from tensorflow.keras.preprocessing.sequence import pad_sequences\n",
    "\n",
    "def predict(text):\n",
    "    tokens=tokenizer.texts_to_sequences([text])\n",
    "    tokens = pad_sequences(tokens, maxlen=14, padding='pre')\n",
    "    prediction = model.predict(tokens)\n",
    "    word_idxx= prediction.argmax(axis=1)[0]\n",
    "    return tokenizer.index_word[word_idxx]\n",
    "predict(\"Enter Barnardo and Francisco\")  # Example usage\n"
   ]
  }
 ],
 "metadata": {
  "kernelspec": {
   "display_name": "base",
   "language": "python",
   "name": "python3"
  },
  "language_info": {
   "codemirror_mode": {
    "name": "ipython",
    "version": 3
   },
   "file_extension": ".py",
   "mimetype": "text/x-python",
   "name": "python",
   "nbconvert_exporter": "python",
   "pygments_lexer": "ipython3",
   "version": "3.12.7"
  }
 },
 "nbformat": 4,
 "nbformat_minor": 5
}
